{
 "cells": [
  {
   "cell_type": "markdown",
   "metadata": {},
   "source": [
    "# Interpreter Activity 2\n",
    "## 17:00 Period"
   ]
  },
  {
   "cell_type": "code",
   "execution_count": 1,
   "metadata": {},
   "outputs": [],
   "source": [
    "data Val = IntVal Integer\n",
    "         | BoolVal Bool\n",
    "         | Closure String Exp Env\n",
    "  deriving (Show,Eq)\n",
    "  \n",
    "data Exp = IntExp Integer\n",
    "         | IntOpExp String Exp Exp\n",
    "         | VarExp String\n",
    "         | LetExp String Exp Exp\n",
    "         | FunExp String Exp\n",
    "         | AppExp Exp Exp\n",
    "  deriving (Show,Eq)\n",
    "  \n",
    "type Env = [(String,Val)]"
   ]
  },
  {
   "cell_type": "code",
   "execution_count": 2,
   "metadata": {},
   "outputs": [],
   "source": [
    "intOps = [ (\"+\",(+))\n",
    "         , (\"-\",(-))\n",
    "         , (\"*\",(*))\n",
    "         , (\"/\",div)]"
   ]
  },
  {
   "cell_type": "code",
   "execution_count": 3,
   "metadata": {},
   "outputs": [],
   "source": [
    "liftIntOp f (IntVal i1) (IntVal i2) = IntVal (f i1 i2)\n",
    "liftIntOp f _           _           = IntVal 0"
   ]
  },
  {
   "cell_type": "code",
   "execution_count": 4,
   "metadata": {},
   "outputs": [],
   "source": [
    "tErr s = error $ \"You idiot! \" ++ s ++ \" Sad!\""
   ]
  },
  {
   "cell_type": "code",
   "execution_count": 5,
   "metadata": {},
   "outputs": [],
   "source": [
    "eval :: Exp -> Env -> Val\n",
    "eval (IntExp i) _ = IntVal i\n",
    "eval (IntOpExp op e1 e2) env =\n",
    "  let v1 = eval e1 env\n",
    "      v2 = eval e2 env\n",
    "      Just f = lookup op intOps\n",
    "   in liftIntOp f v1 v2 \n",
    "eval (VarExp v) env =\n",
    "  case lookup v env of\n",
    "     Just vv -> vv\n",
    "     Nothing -> tErr $ \"Symbol \" ++ v ++ \" is undefined.\"\n",
    "eval (LetExp v e1 e2) env =\n",
    "  let v1 = eval e1 env\n",
    "   in eval e2 ((v,v1):env)\n",
    "eval (FunExp v body) env =\n",
    "   Closure v body env\n",
    "eval (AppExp e1 e2) env =\n",
    "   let v1 = eval e1 env\n",
    "       v2 = eval e2 env\n",
    "    in case v1 of\n",
    "        Closure p body clenv  ->  eval body ((p,v2):clenv)\n",
    "        _                     -> tErr \"That was not a closure!\""
   ]
  },
  {
   "cell_type": "code",
   "execution_count": 6,
   "metadata": {},
   "outputs": [],
   "source": [
    "nats n = n : nats (n + 1)"
   ]
  },
  {
   "cell_type": "code",
   "execution_count": 7,
   "metadata": {},
   "outputs": [
    {
     "data": {
      "text/plain": [
       "[10,11,12,13,14,15,16,17,18,19]"
      ]
     },
     "metadata": {},
     "output_type": "display_data"
    }
   ],
   "source": [
    "take 10 (nats 10)"
   ]
  },
  {
   "cell_type": "code",
   "execution_count": 8,
   "metadata": {},
   "outputs": [
    {
     "data": {
      "text/plain": [
       "10001"
      ]
     },
     "metadata": {},
     "output_type": "display_data"
    }
   ],
   "source": [
    "(\\ x -> x * x + 1) 100"
   ]
  },
  {
   "cell_type": "code",
   "execution_count": 9,
   "metadata": {},
   "outputs": [],
   "source": [
    "foo = \n",
    "   let delta = 1 in\n",
    "      \\x -> x * x + delta"
   ]
  },
  {
   "cell_type": "code",
   "execution_count": 10,
   "metadata": {},
   "outputs": [
    {
     "data": {
      "text/plain": [
       "[10,17,26,50]"
      ]
     },
     "metadata": {},
     "output_type": "display_data"
    }
   ],
   "source": [
    "map (\\x -> x*x+1) [3,4,5,7]"
   ]
  },
  {
   "cell_type": "code",
   "execution_count": 11,
   "metadata": {},
   "outputs": [],
   "source": [
    "p1 = LetExp \"delta\" (IntExp 1) (FunExp \"x\" (IntOpExp \"+\" (VarExp \"x\") (VarExp \"delta\"))) "
   ]
  },
  {
   "cell_type": "code",
   "execution_count": 12,
   "metadata": {},
   "outputs": [
    {
     "data": {
      "text/plain": [
       "Closure \"x\" (IntOpExp \"+\" (VarExp \"x\") (VarExp \"delta\")) [(\"delta\",IntVal 1)]"
      ]
     },
     "metadata": {},
     "output_type": "display_data"
    }
   ],
   "source": [
    "eval p1 []"
   ]
  },
  {
   "cell_type": "code",
   "execution_count": 14,
   "metadata": {},
   "outputs": [],
   "source": [
    "p2 = LetExp \"foo\" p1 (AppExp (VarExp \"foo\") (IntExp 10))"
   ]
  },
  {
   "cell_type": "code",
   "execution_count": 15,
   "metadata": {},
   "outputs": [
    {
     "data": {
      "text/plain": [
       "IntVal 11"
      ]
     },
     "metadata": {},
     "output_type": "display_data"
    }
   ],
   "source": [
    "eval p2 []"
   ]
  },
  {
   "cell_type": "code",
   "execution_count": 16,
   "metadata": {},
   "outputs": [],
   "source": [
    "twice = FunExp \"f\" (FunExp \"x\" (AppExp (VarExp \"f\") (AppExp (VarExp \"f\") (VarExp \"x\"))))"
   ]
  },
  {
   "cell_type": "code",
   "execution_count": 18,
   "metadata": {},
   "outputs": [
    {
     "data": {
      "text/plain": [
       "IntVal 12"
      ]
     },
     "metadata": {},
     "output_type": "display_data"
    }
   ],
   "source": [
    "eval (AppExp (AppExp (VarExp \"twice\") (VarExp \"foo\")) (IntExp 10)) [(\"foo\",eval p1 []),(\"twice\",eval twice [])]"
   ]
  }
 ],
 "metadata": {
  "kernelspec": {
   "display_name": "Haskell",
   "language": "haskell",
   "name": "haskell"
  },
  "language_info": {
   "codemirror_mode": "ihaskell",
   "file_extension": ".hs",
   "name": "haskell",
   "version": "8.0.2"
  }
 },
 "nbformat": 4,
 "nbformat_minor": 2
}
