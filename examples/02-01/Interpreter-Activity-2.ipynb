{
 "cells": [
  {
   "cell_type": "markdown",
   "metadata": {},
   "source": [
    "# Interpreter Activity 2"
   ]
  },
  {
   "cell_type": "code",
   "execution_count": null,
   "metadata": {},
   "outputs": [],
   "source": [
    "data Val = IntVal Integer\n",
    "         | BoolVal Bool\n",
    "  deriving (Show,Eq)"
   ]
  },
  {
   "cell_type": "code",
   "execution_count": null,
   "metadata": {},
   "outputs": [],
   "source": [
    "data Exp = IntExp Integer\n",
    "         | IntOpExp String Exp Exp\n",
    "         | VarExp String\n",
    "         | LetExp String Val Exp\n",
    "  deriving (Show,Eq)"
   ]
  },
  {
   "cell_type": "code",
   "execution_count": null,
   "metadata": {},
   "outputs": [],
   "source": [
    "type Env = [(String,Val)]"
   ]
  },
  {
   "cell_type": "code",
   "execution_count": null,
   "metadata": {},
   "outputs": [],
   "source": [
    "intOps = [ (\"+\",(+))\n",
    "         , (\"-\",(-))\n",
    "         , (\"*\",(*))\n",
    "         , (\"/\",div)]"
   ]
  },
  {
   "cell_type": "code",
   "execution_count": null,
   "metadata": {},
   "outputs": [],
   "source": [
    "liftIntOp f (IntVal i1) (IntVal i2) = IntVal (f i1 i2)\n",
    "liftIntOp f _           _           = IntVal 0"
   ]
  },
  {
   "cell_type": "code",
   "execution_count": null,
   "metadata": {},
   "outputs": [],
   "source": [
    "tErr s = error $ \"You idiot! \" ++ s ++ \" Sad!\""
   ]
  },
  {
   "cell_type": "code",
   "execution_count": null,
   "metadata": {},
   "outputs": [],
   "source": [
    "eval :: Exp -> Evn -> Val\n",
    "eval (IntExp i) _ = IntVal i\n",
    "eval (IntOpExp op e1 e2) env =\n",
    "  let v1 = eval e1 env\n",
    "      v2 = eval e2 env\n",
    "      Just f = lookup op intOpts\n",
    "   in liftIntOp f v1 v2 \n",
    "eval (VarExp v) env =\n",
    "  case lookup v env of\n",
    "     Just vv -> v\n",
    "     Nothing -> err $ \"Symbol \" ++ v ++ \" is undefined.\"\n",
    "eval (LetExp v e1 e2) env =\n",
    "  let v1 = eval e1 env\n",
    "   in eval e2 (var,v1):env"
   ]
  },
  {
   "cell_type": "code",
   "execution_count": null,
   "metadata": {},
   "outputs": [],
   "source": []
  }
 ],
 "metadata": {
  "kernelspec": {
   "display_name": "Haskell",
   "language": "haskell",
   "name": "haskell"
  },
  "language_info": {
   "codemirror_mode": "ihaskell",
   "file_extension": ".hs",
   "name": "haskell",
   "version": "8.0.2"
  }
 },
 "nbformat": 4,
 "nbformat_minor": 2
}
